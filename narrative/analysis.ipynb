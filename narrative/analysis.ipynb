{
 "cells": [
  {
   "cell_type": "markdown",
   "id": "6f0fed77",
   "metadata": {},
   "source": [
    "# ILP experiments"
   ]
  },
  {
   "cell_type": "code",
   "execution_count": null,
   "id": "b357f71a",
   "metadata": {},
   "outputs": [],
   "source": [
    "import pandas as pd\n",
    "from scipy import stats"
   ]
  },
  {
   "cell_type": "code",
   "execution_count": null,
   "id": "431b852a",
   "metadata": {},
   "outputs": [],
   "source": [
    "def add_static_info(df):\n",
    "    df[\"method\"] = \"ILP\"\n",
    "    df[\"td\"] = \"simple-triple+text+hr-triple\"\n",
    "    df[\"syntax\"] = \"hyper_relational_rdf_star\"\n",
    "    return df"
   ]
  },
  {
   "cell_type": "code",
   "execution_count": null,
   "id": "f37d833b",
   "metadata": {},
   "outputs": [],
   "source": [
    "PATH = \"results/results.csv\"\n",
    "MAIN_METRIC = \"validation.both.realistic.adjusted_arithmetic_mean_rank\"\n",
    "ETA = [\"prop\", \"subevent\", \"role\", \"causation\"]\n",
    "HP = [\"lr\", \"embedding_dim\", \"batch_size\"]\n",
    "\n",
    "METRICS = [\n",
    "    (\"validation.both.realistic.adjusted_arithmetic_mean_rank\", \"AMR\"),  # lower is better\n",
    "    (\"validation.both.realistic.inverse_harmonic_mean_rank\", \"MRR\"),\n",
    "    (\"validation.both.realistic.hits_at_1\", \"H@1\") ,\n",
    "    (\"validation.both.realistic.hits_at_3\", \"H@3\") ,\n",
    "    (\"validation.both.realistic.hits_at_5\", \"H@5\") ,\n",
    "    (\"validation.both.realistic.hits_at_10\", \"H@10\") \n",
    "]\n",
    "\n",
    "df = pd.read_csv(PATH, index_col=0)\n",
    "df = df.rename(columns={x: k for x, k in METRICS})\n",
    "METRICS = [x[1] for x in METRICS]\n",
    "print(f\"# of experiments: {len(df)}\")\n",
    "df.head(3)"
   ]
  },
  {
   "cell_type": "code",
   "execution_count": null,
   "id": "76f48609",
   "metadata": {},
   "outputs": [],
   "source": [
    "eta_counts = df.groupby(ETA).size().reset_index(name='exp_count')\n",
    "df = df.merge(eta_counts, on=ETA, how='left')\n",
    "eta_counts\n"
   ]
  },
  {
   "cell_type": "code",
   "execution_count": null,
   "id": "385a1030",
   "metadata": {},
   "outputs": [],
   "source": [
    "add_static_info(df[df.causation==1]).to_csv(\"results/results_syntax.csv\")"
   ]
  },
  {
   "cell_type": "code",
   "execution_count": null,
   "id": "ff969137",
   "metadata": {},
   "outputs": [],
   "source": [
    "def print_corr(df, cols_param, cols_metric):\n",
    "    for col in cols_param:\n",
    "        for m in cols_metric:\n",
    "            res = stats.spearmanr(df[col], df[m])\n",
    "            print(f\"{col.upper()}:\\t vs. {m.upper()}: {res.statistic:.4f}, p={res.pvalue:.4f}\")"
   ]
  },
  {
   "cell_type": "code",
   "execution_count": null,
   "id": "74cb69ec",
   "metadata": {},
   "outputs": [],
   "source": [
    "print(\"Spearman correlations: ALL\")\n",
    "print(\"Semantic--\")\n",
    "print_corr(df=df, cols_param=[\"prop\", \"subevent\"], cols_metric=METRICS)"
   ]
  },
  {
   "cell_type": "code",
   "execution_count": null,
   "id": "81e76155",
   "metadata": {},
   "outputs": [],
   "source": [
    "data = []\n",
    "for eta, group in df.groupby(ETA):\n",
    "    for hp in HP:\n",
    "        for m in METRICS:\n",
    "            res = stats.spearmanr(group[hp], group[m])\n",
    "            data.append(list(eta) + [hp, m, res.statistic, res.pvalue])\n",
    "df_corr_hp_metric = pd.DataFrame(\n",
    "    data,\n",
    "    columns=ETA + [\"hp\", \"metric\", \"corr\", \"pval\"]\n",
    ")\n",
    "df_corr_hp_metric = df_corr_hp_metric.merge(eta_counts, on=ETA, how='left')\n",
    "add_static_info(df_corr_hp_metric).to_csv(\"results/corr_hp_metric_per_eta.csv\")\n",
    "df_corr_hp_metric.head(3)"
   ]
  },
  {
   "cell_type": "code",
   "execution_count": null,
   "id": "70f0e3b7",
   "metadata": {},
   "outputs": [],
   "source": [
    "df_corr_hp_metric[df_corr_hp_metric.pval < 0.05]"
   ]
  },
  {
   "cell_type": "code",
   "execution_count": null,
   "id": "f8894333",
   "metadata": {},
   "outputs": [],
   "source": [
    "ranks = df.groupby(ETA)[\"AMR\"].rank(method='min', ascending=True)\n",
    "df[\"rank\"] = ranks\n",
    "add_static_info(df[df[\"rank\"]==1][ETA + HP + [\"exp_count\"]]).to_csv(\"results/best_hp_per_eta.csv\")\n",
    "df[df[\"rank\"]==1][ETA + HP]"
   ]
  },
  {
   "cell_type": "code",
   "execution_count": null,
   "id": "2dacadf5",
   "metadata": {},
   "outputs": [],
   "source": [
    "add_static_info(df[df[\"rank\"]==1][ETA + METRICS + [\"exp_count\"]]).to_csv(\"results/best_metric_per_eta.csv\")\n",
    "df[df[\"rank\"]==1][ETA + METRICS]"
   ]
  },
  {
   "cell_type": "code",
   "execution_count": null,
   "id": "27a0b0bf",
   "metadata": {},
   "outputs": [],
   "source": [
    "data = []\n",
    "for eta in ETA:\n",
    "    for m in METRICS:\n",
    "        res = stats.spearmanr(group[hp], group[m])\n",
    "        data.append([eta, m, res.statistic, res.pvalue])\n",
    "df_corr_eta_metric = pd.DataFrame(\n",
    "    data,\n",
    "    columns=[\"eta\", \"metric\", \"corr\", \"pval\"]\n",
    ")\n",
    "add_static_info(df_corr_eta_metric).to_csv(\"results/corr_eta_metric.csv\")\n",
    "df_corr_eta_metric"
   ]
  },
  {
   "cell_type": "code",
   "execution_count": null,
   "id": "746575e3",
   "metadata": {},
   "outputs": [],
   "source": [
    "print_corr(df, ETA, METRICS)"
   ]
  },
  {
   "cell_type": "code",
   "execution_count": null,
   "id": "73bb1545",
   "metadata": {},
   "outputs": [],
   "source": []
  }
 ],
 "metadata": {
  "kernelspec": {
   "display_name": "hyper_relational_ilp",
   "language": "python",
   "name": "python3"
  },
  "language_info": {
   "codemirror_mode": {
    "name": "ipython",
    "version": 3
   },
   "file_extension": ".py",
   "mimetype": "text/x-python",
   "name": "python",
   "nbconvert_exporter": "python",
   "pygments_lexer": "ipython3",
   "version": "3.10.0"
  }
 },
 "nbformat": 4,
 "nbformat_minor": 5
}
